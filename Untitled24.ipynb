{
  "nbformat": 4,
  "nbformat_minor": 0,
  "metadata": {
    "colab": {
      "provenance": []
    },
    "kernelspec": {
      "name": "python3",
      "display_name": "Python 3"
    },
    "language_info": {
      "name": "python"
    }
  },
  "cells": [
    {
      "cell_type": "code",
      "execution_count": 1,
      "metadata": {
        "id": "X09T2zNAY2q2"
      },
      "outputs": [],
      "source": [
        "import pandas as pd\n",
        "import numpy as np"
      ]
    },
    {
      "cell_type": "code",
      "source": [
        "df3 = pd.read_csv(\"https://drive.google.com/uc?export=download&id=1wOhyCnvGeY4jplxI8lZ-bbYN3zLtickf\")\n",
        "df3.info()"
      ],
      "metadata": {
        "colab": {
          "base_uri": "https://localhost:8080/"
        },
        "id": "GU0sCednY4hv",
        "outputId": "4ae6a385-1270-49d2-fd55-42f8fa8762c5"
      },
      "execution_count": 2,
      "outputs": [
        {
          "output_type": "stream",
          "name": "stdout",
          "text": [
            "<class 'pandas.core.frame.DataFrame'>\n",
            "RangeIndex: 6000 entries, 0 to 5999\n",
            "Data columns (total 17 columns):\n",
            " #   Column             Non-Null Count  Dtype \n",
            "---  ------             --------------  ----- \n",
            " 0   UserID             6000 non-null   object\n",
            " 1   Sex                6000 non-null   object\n",
            " 2   PreviousDefault    6000 non-null   int64 \n",
            " 3   FirstName          6000 non-null   object\n",
            " 4   LastName           6000 non-null   object\n",
            " 5   NumberPets         6000 non-null   int64 \n",
            " 6   PreviousAccounts   6000 non-null   int64 \n",
            " 7   ResidenceDuration  6000 non-null   int64 \n",
            " 8   Street             6000 non-null   object\n",
            " 9   LicensePlate       6000 non-null   object\n",
            " 10  BadCredit          6000 non-null   int64 \n",
            " 11  Amount             6000 non-null   int64 \n",
            " 12  Married            6000 non-null   int64 \n",
            " 13  Duration           6000 non-null   int64 \n",
            " 14  City               6000 non-null   object\n",
            " 15  Purpose            6000 non-null   object\n",
            " 16  DateOfBirth        6000 non-null   object\n",
            "dtypes: int64(8), object(9)\n",
            "memory usage: 797.0+ KB\n"
          ]
        }
      ]
    },
    {
      "cell_type": "code",
      "source": [
        "df3.head()"
      ],
      "metadata": {
        "colab": {
          "base_uri": "https://localhost:8080/",
          "height": 513
        },
        "id": "j6SC5xkBbisu",
        "outputId": "b6eb3a21-04de-4597-ede6-eb60ef13a68b"
      },
      "execution_count": 5,
      "outputs": [
        {
          "output_type": "execute_result",
          "data": {
            "text/plain": [
              "        UserID Sex  PreviousDefault  FirstName  LastName  NumberPets  \\\n",
              "0  218-84-8180   F                0      Debra  Schaefer           2   \n",
              "1  395-49-9764   M                0      Derek    Wright           0   \n",
              "2  892-81-4890   F                0    Shannon     Smith           0   \n",
              "3  081-11-7963   F                0  Christina    Brooks           2   \n",
              "4  347-03-9639   M                0      Ralph  Anderson           1   \n",
              "\n",
              "   PreviousAccounts  ResidenceDuration                      Street  \\\n",
              "0                 3                  1             503 Linda Locks   \n",
              "1                 1                  1       969 Cox Dam Suite 101   \n",
              "2                 0                  2            845 Kelly Estate   \n",
              "3                 1                  3             809 Burns Creek   \n",
              "4                 5                  1  248 Brandt Plains Apt. 465   \n",
              "\n",
              "  LicensePlate  BadCredit  Amount  Married  Duration              City  \\\n",
              "0         395C          0    3907        0        24        Port Keith   \n",
              "1      UFZ 691          0    3235        0        12        Lake Debra   \n",
              "2      48A•281          0    3108        1        30  North Judithbury   \n",
              "3      30Z J39          1    4014        1        36         Lake Chad   \n",
              "4      71-Q331          1    3823        0        18  North Judithbury   \n",
              "\n",
              "    Purpose DateOfBirth  \n",
              "0  Vacation  1964-04-07  \n",
              "1    NewCar  1978-06-02  \n",
              "2    NewCar  1972-03-18  \n",
              "3     Other  1985-02-26  \n",
              "4  Vacation  1983-08-08  "
            ],
            "text/html": [
              "\n",
              "  <div id=\"df-7a757e34-4dc6-482b-b5bb-f9e4a1cfa61f\">\n",
              "    <div class=\"colab-df-container\">\n",
              "      <div>\n",
              "<style scoped>\n",
              "    .dataframe tbody tr th:only-of-type {\n",
              "        vertical-align: middle;\n",
              "    }\n",
              "\n",
              "    .dataframe tbody tr th {\n",
              "        vertical-align: top;\n",
              "    }\n",
              "\n",
              "    .dataframe thead th {\n",
              "        text-align: right;\n",
              "    }\n",
              "</style>\n",
              "<table border=\"1\" class=\"dataframe\">\n",
              "  <thead>\n",
              "    <tr style=\"text-align: right;\">\n",
              "      <th></th>\n",
              "      <th>UserID</th>\n",
              "      <th>Sex</th>\n",
              "      <th>PreviousDefault</th>\n",
              "      <th>FirstName</th>\n",
              "      <th>LastName</th>\n",
              "      <th>NumberPets</th>\n",
              "      <th>PreviousAccounts</th>\n",
              "      <th>ResidenceDuration</th>\n",
              "      <th>Street</th>\n",
              "      <th>LicensePlate</th>\n",
              "      <th>BadCredit</th>\n",
              "      <th>Amount</th>\n",
              "      <th>Married</th>\n",
              "      <th>Duration</th>\n",
              "      <th>City</th>\n",
              "      <th>Purpose</th>\n",
              "      <th>DateOfBirth</th>\n",
              "    </tr>\n",
              "  </thead>\n",
              "  <tbody>\n",
              "    <tr>\n",
              "      <th>0</th>\n",
              "      <td>218-84-8180</td>\n",
              "      <td>F</td>\n",
              "      <td>0</td>\n",
              "      <td>Debra</td>\n",
              "      <td>Schaefer</td>\n",
              "      <td>2</td>\n",
              "      <td>3</td>\n",
              "      <td>1</td>\n",
              "      <td>503 Linda Locks</td>\n",
              "      <td>395C</td>\n",
              "      <td>0</td>\n",
              "      <td>3907</td>\n",
              "      <td>0</td>\n",
              "      <td>24</td>\n",
              "      <td>Port Keith</td>\n",
              "      <td>Vacation</td>\n",
              "      <td>1964-04-07</td>\n",
              "    </tr>\n",
              "    <tr>\n",
              "      <th>1</th>\n",
              "      <td>395-49-9764</td>\n",
              "      <td>M</td>\n",
              "      <td>0</td>\n",
              "      <td>Derek</td>\n",
              "      <td>Wright</td>\n",
              "      <td>0</td>\n",
              "      <td>1</td>\n",
              "      <td>1</td>\n",
              "      <td>969 Cox Dam Suite 101</td>\n",
              "      <td>UFZ 691</td>\n",
              "      <td>0</td>\n",
              "      <td>3235</td>\n",
              "      <td>0</td>\n",
              "      <td>12</td>\n",
              "      <td>Lake Debra</td>\n",
              "      <td>NewCar</td>\n",
              "      <td>1978-06-02</td>\n",
              "    </tr>\n",
              "    <tr>\n",
              "      <th>2</th>\n",
              "      <td>892-81-4890</td>\n",
              "      <td>F</td>\n",
              "      <td>0</td>\n",
              "      <td>Shannon</td>\n",
              "      <td>Smith</td>\n",
              "      <td>0</td>\n",
              "      <td>0</td>\n",
              "      <td>2</td>\n",
              "      <td>845 Kelly Estate</td>\n",
              "      <td>48A•281</td>\n",
              "      <td>0</td>\n",
              "      <td>3108</td>\n",
              "      <td>1</td>\n",
              "      <td>30</td>\n",
              "      <td>North Judithbury</td>\n",
              "      <td>NewCar</td>\n",
              "      <td>1972-03-18</td>\n",
              "    </tr>\n",
              "    <tr>\n",
              "      <th>3</th>\n",
              "      <td>081-11-7963</td>\n",
              "      <td>F</td>\n",
              "      <td>0</td>\n",
              "      <td>Christina</td>\n",
              "      <td>Brooks</td>\n",
              "      <td>2</td>\n",
              "      <td>1</td>\n",
              "      <td>3</td>\n",
              "      <td>809 Burns Creek</td>\n",
              "      <td>30Z J39</td>\n",
              "      <td>1</td>\n",
              "      <td>4014</td>\n",
              "      <td>1</td>\n",
              "      <td>36</td>\n",
              "      <td>Lake Chad</td>\n",
              "      <td>Other</td>\n",
              "      <td>1985-02-26</td>\n",
              "    </tr>\n",
              "    <tr>\n",
              "      <th>4</th>\n",
              "      <td>347-03-9639</td>\n",
              "      <td>M</td>\n",
              "      <td>0</td>\n",
              "      <td>Ralph</td>\n",
              "      <td>Anderson</td>\n",
              "      <td>1</td>\n",
              "      <td>5</td>\n",
              "      <td>1</td>\n",
              "      <td>248 Brandt Plains Apt. 465</td>\n",
              "      <td>71-Q331</td>\n",
              "      <td>1</td>\n",
              "      <td>3823</td>\n",
              "      <td>0</td>\n",
              "      <td>18</td>\n",
              "      <td>North Judithbury</td>\n",
              "      <td>Vacation</td>\n",
              "      <td>1983-08-08</td>\n",
              "    </tr>\n",
              "  </tbody>\n",
              "</table>\n",
              "</div>\n",
              "      <button class=\"colab-df-convert\" onclick=\"convertToInteractive('df-7a757e34-4dc6-482b-b5bb-f9e4a1cfa61f')\"\n",
              "              title=\"Convert this dataframe to an interactive table.\"\n",
              "              style=\"display:none;\">\n",
              "        \n",
              "  <svg xmlns=\"http://www.w3.org/2000/svg\" height=\"24px\"viewBox=\"0 0 24 24\"\n",
              "       width=\"24px\">\n",
              "    <path d=\"M0 0h24v24H0V0z\" fill=\"none\"/>\n",
              "    <path d=\"M18.56 5.44l.94 2.06.94-2.06 2.06-.94-2.06-.94-.94-2.06-.94 2.06-2.06.94zm-11 1L8.5 8.5l.94-2.06 2.06-.94-2.06-.94L8.5 2.5l-.94 2.06-2.06.94zm10 10l.94 2.06.94-2.06 2.06-.94-2.06-.94-.94-2.06-.94 2.06-2.06.94z\"/><path d=\"M17.41 7.96l-1.37-1.37c-.4-.4-.92-.59-1.43-.59-.52 0-1.04.2-1.43.59L10.3 9.45l-7.72 7.72c-.78.78-.78 2.05 0 2.83L4 21.41c.39.39.9.59 1.41.59.51 0 1.02-.2 1.41-.59l7.78-7.78 2.81-2.81c.8-.78.8-2.07 0-2.86zM5.41 20L4 18.59l7.72-7.72 1.47 1.35L5.41 20z\"/>\n",
              "  </svg>\n",
              "      </button>\n",
              "      \n",
              "  <style>\n",
              "    .colab-df-container {\n",
              "      display:flex;\n",
              "      flex-wrap:wrap;\n",
              "      gap: 12px;\n",
              "    }\n",
              "\n",
              "    .colab-df-convert {\n",
              "      background-color: #E8F0FE;\n",
              "      border: none;\n",
              "      border-radius: 50%;\n",
              "      cursor: pointer;\n",
              "      display: none;\n",
              "      fill: #1967D2;\n",
              "      height: 32px;\n",
              "      padding: 0 0 0 0;\n",
              "      width: 32px;\n",
              "    }\n",
              "\n",
              "    .colab-df-convert:hover {\n",
              "      background-color: #E2EBFA;\n",
              "      box-shadow: 0px 1px 2px rgba(60, 64, 67, 0.3), 0px 1px 3px 1px rgba(60, 64, 67, 0.15);\n",
              "      fill: #174EA6;\n",
              "    }\n",
              "\n",
              "    [theme=dark] .colab-df-convert {\n",
              "      background-color: #3B4455;\n",
              "      fill: #D2E3FC;\n",
              "    }\n",
              "\n",
              "    [theme=dark] .colab-df-convert:hover {\n",
              "      background-color: #434B5C;\n",
              "      box-shadow: 0px 1px 3px 1px rgba(0, 0, 0, 0.15);\n",
              "      filter: drop-shadow(0px 1px 2px rgba(0, 0, 0, 0.3));\n",
              "      fill: #FFFFFF;\n",
              "    }\n",
              "  </style>\n",
              "\n",
              "      <script>\n",
              "        const buttonEl =\n",
              "          document.querySelector('#df-7a757e34-4dc6-482b-b5bb-f9e4a1cfa61f button.colab-df-convert');\n",
              "        buttonEl.style.display =\n",
              "          google.colab.kernel.accessAllowed ? 'block' : 'none';\n",
              "\n",
              "        async function convertToInteractive(key) {\n",
              "          const element = document.querySelector('#df-7a757e34-4dc6-482b-b5bb-f9e4a1cfa61f');\n",
              "          const dataTable =\n",
              "            await google.colab.kernel.invokeFunction('convertToInteractive',\n",
              "                                                     [key], {});\n",
              "          if (!dataTable) return;\n",
              "\n",
              "          const docLinkHtml = 'Like what you see? Visit the ' +\n",
              "            '<a target=\"_blank\" href=https://colab.research.google.com/notebooks/data_table.ipynb>data table notebook</a>'\n",
              "            + ' to learn more about interactive tables.';\n",
              "          element.innerHTML = '';\n",
              "          dataTable['output_type'] = 'display_data';\n",
              "          await google.colab.output.renderOutput(dataTable, element);\n",
              "          const docLink = document.createElement('div');\n",
              "          docLink.innerHTML = docLinkHtml;\n",
              "          element.appendChild(docLink);\n",
              "        }\n",
              "      </script>\n",
              "    </div>\n",
              "  </div>\n",
              "  "
            ]
          },
          "metadata": {},
          "execution_count": 5
        }
      ]
    },
    {
      "cell_type": "code",
      "source": [
        "from sklearn.model_selection import train_test_split\n",
        "\n",
        "X = df3.drop('BadCredit', axis=1) #.select_dtypes(['number'])\n",
        "y = df3['BadCredit']\n",
        "\n",
        "X_train, X_test, y_train, y_test = train_test_split(X, y, test_size=0.2, random_state=42)"
      ],
      "metadata": {
        "id": "TyqE_jiwZAtf"
      },
      "execution_count": 4,
      "outputs": []
    },
    {
      "cell_type": "code",
      "source": [
        "X_train = X_train.drop(['UserID','FirstName','LastName','Street','LicensePlate', 'DateOfBirth'], axis=1)"
      ],
      "metadata": {
        "id": "6_4NSV9PdhE1"
      },
      "execution_count": 6,
      "outputs": []
    },
    {
      "cell_type": "code",
      "source": [
        "#Create dummy variables\n",
        "X_train = pd.get_dummies(X_train)"
      ],
      "metadata": {
        "id": "tFB3Iq3rdhm8"
      },
      "execution_count": 7,
      "outputs": []
    },
    {
      "cell_type": "code",
      "source": [
        "#Standard Scaling\n",
        "from sklearn.preprocessing import StandardScaler\n",
        "X_train = StandardScaler().fit_transform(X_train)"
      ],
      "metadata": {
        "id": "Id4F0B8gdknM"
      },
      "execution_count": 8,
      "outputs": []
    },
    {
      "cell_type": "code",
      "source": [
        "import lightgbm as lgb\n",
        "\n",
        "model = lgb.LGBMClassifier()\n",
        "model.fit(X_train, y_train)"
      ],
      "metadata": {
        "colab": {
          "base_uri": "https://localhost:8080/"
        },
        "id": "1n8RF5Ifdorl",
        "outputId": "17186697-1108-4d26-8b3d-f288c8a80c7a"
      },
      "execution_count": 9,
      "outputs": [
        {
          "output_type": "execute_result",
          "data": {
            "text/plain": [
              "LGBMClassifier()"
            ]
          },
          "metadata": {},
          "execution_count": 9
        }
      ]
    },
    {
      "cell_type": "code",
      "source": [
        "from sklearn.model_selection import cross_val_score"
      ],
      "metadata": {
        "id": "tnTrlJCad6Ye"
      },
      "execution_count": 11,
      "outputs": []
    },
    {
      "cell_type": "code",
      "source": [
        "scores = cross_val_score(model, X_train, y_train, \n",
        "                         scoring='f1_micro', cv=10, n_jobs=-1)"
      ],
      "metadata": {
        "id": "hYX2x6GVdtxk"
      },
      "execution_count": 12,
      "outputs": []
    },
    {
      "cell_type": "code",
      "source": [
        "print(np.mean(scores))"
      ],
      "metadata": {
        "colab": {
          "base_uri": "https://localhost:8080/"
        },
        "id": "p-MC-IT1dvcF",
        "outputId": "262e5510-70c0-4b30-a7de-7ed30aef06a1"
      },
      "execution_count": 13,
      "outputs": [
        {
          "output_type": "stream",
          "name": "stdout",
          "text": [
            "0.8277083333333334\n"
          ]
        }
      ]
    }
  ]
}